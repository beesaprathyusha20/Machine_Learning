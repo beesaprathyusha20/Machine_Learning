{
  "nbformat": 4,
  "nbformat_minor": 0,
  "metadata": {
    "colab": {
      "name": "Classification.ipynb",
      "provenance": [],
      "collapsed_sections": [],
      "mount_file_id": "1p8wUxyhglKrgPehkI1SAykplRvMLZTRi",
      "authorship_tag": "ABX9TyPD21e3EN9MCo88KE1YIrhO",
      "include_colab_link": true
    },
    "kernelspec": {
      "name": "python3",
      "display_name": "Python 3"
    },
    "language_info": {
      "name": "python"
    }
  },
  "cells": [
    {
      "cell_type": "markdown",
      "metadata": {
        "id": "view-in-github",
        "colab_type": "text"
      },
      "source": [
        "<a href=\"https://colab.research.google.com/github/beesaprathyusha20/Machine_Learning/blob/main/Classification.ipynb\" target=\"_parent\"><img src=\"https://colab.research.google.com/assets/colab-badge.svg\" alt=\"Open In Colab\"/></a>"
      ]
    },
    {
      "cell_type": "code",
      "execution_count": 11,
      "metadata": {
        "id": "knGHYhGG7kaq"
      },
      "outputs": [],
      "source": [
        "import pandas as pd\n",
        "import numpy as np\n",
        "from sklearn.model_selection import train_test_split\n",
        "from sklearn.datasets import load_iris\n"
      ]
    },
    {
      "cell_type": "markdown",
      "source": [
        "KNN Classification From Scratch"
      ],
      "metadata": {
        "id": "PoEZ5u2tm-di"
      }
    },
    {
      "cell_type": "code",
      "source": [
        "class knn: #creating class knn\n",
        "  def __init__(self,k=3): #definig function and assuming k value as 5\n",
        "      self.k = k #accessing the variable k\n",
        "  def fit(self,x,y): #defining the function to fit the model\n",
        "    assert len(x)==len(y) #checking whether training data and target variable are of same lengths\n",
        "    self.X_train = x #accessing the varaiable x\n",
        "    self.y_train = y #accessing the varaible y\n",
        "  def distance(self,x1,x2): #defining function distance and passing two variable x1,x2 to calculate euclidean distance\n",
        "    x1,x2=np.array(x1),np.array(x2) #converting them into arrays\n",
        "    distance=0 #default distance is set to 0\n",
        "    for i in range(len(x1)-1): #using for loop for iterating len(x1)-1 times\n",
        "      distance += (x1[i]-x2[i])**2 #squaring the distance between x1 and x2 points\n",
        "      return np.sqrt(distance) #square root the distance \n",
        "  def predict(self,X_test): #method to predict \n",
        "    sorted_output = [] #instantiating an empty list\n",
        "    for i in range(len(X_test)): #generating for loop over the lenght of x_test\n",
        "      distances = [] #initializing empty list for distances\n",
        "      neighbors = []  #initializing empty list for neighbors\n",
        "      for j in range(len(self.X_train)): #generating for loop which runs length of x_train \n",
        "        dist = self.distance(self.X_train[j],X_test[i]) #calculates a distance using the instance of x_train and overall distance of x_test\n",
        "        distances.append([dist,j]) #calculations are added to the distances list\n",
        "        distances.sort()\n",
        "      distances = distances[0:self.k] #slicing down the most relevant datapoints\n",
        "      for _, j in distances: \n",
        "        neighbors.append(self.y_train[j]) #appends the y_train of the instance to a list\n",
        "      ans = max(neighbors) #takes the max of the list\n",
        "      sorted_output.append(ans) #appends the value to the sorted outputs\n",
        "    return sorted_output #returns the value\n",
        "  def score(self,X_test,y_test): #Creating a method takes x_test and y_test \n",
        "    predictions = self.predict(X_test) #Runs the data through predict method\n",
        "    return (predictions == y_test).sum()/len(y_test) #taking the predictions with the y_test , summing the y_values dividing it by the length of the y_test\n",
        "\n",
        "\n",
        "\n",
        "\n",
        "\n",
        "         \n"
      ],
      "metadata": {
        "id": "GKjfeQRfGwWm"
      },
      "execution_count": 12,
      "outputs": []
    },
    {
      "cell_type": "markdown",
      "source": [
        ""
      ],
      "metadata": {
        "id": "IX7fuMKPk-4Q"
      }
    },
    {
      "cell_type": "code",
      "source": [
        "df = load_iris()\n",
        "d1 = df.data\n",
        "d2 = df.target\n",
        "X_train, X_test, y_train, y_test = train_test_split(d1,d2, random_state=42, test_size=0.2)\n",
        "testing_neighbors = knn(k=3)\n",
        "testing_neighbors.fit(X_train,y_train)\n",
        "prediction = testing_neighbors.predict(X_test)\n",
        "rob_pred = testing_neighbors.score(X_test,y_test)\n",
        "print('The accuracy of the model is:',rob_pred)\n"
      ],
      "metadata": {
        "colab": {
          "base_uri": "https://localhost:8080/"
        },
        "id": "4yPfnV0Yk9Zk",
        "outputId": "6a1490be-5ce5-4f1d-b654-f40588c3ddfa"
      },
      "execution_count": 26,
      "outputs": [
        {
          "output_type": "stream",
          "name": "stdout",
          "text": [
            "The accuracy of the model is: 0.5666666666666667\n"
          ]
        }
      ]
    },
    {
      "cell_type": "markdown",
      "source": [
        "KNN Classification using sklearn library"
      ],
      "metadata": {
        "id": "hLJeWUfZnJGZ"
      }
    },
    {
      "cell_type": "code",
      "source": [
        "from sklearn.neighbors import KNeighborsClassifier\n",
        "\n"
      ],
      "metadata": {
        "id": "a9oxtHmWlV39"
      },
      "execution_count": 16,
      "outputs": []
    },
    {
      "cell_type": "code",
      "source": [
        "neigh = KNeighborsClassifier(n_neighbors=3)"
      ],
      "metadata": {
        "id": "9nAaHo8Il0_d"
      },
      "execution_count": 17,
      "outputs": []
    },
    {
      "cell_type": "code",
      "source": [
        "neigh.fit(X_train,y_train)"
      ],
      "metadata": {
        "colab": {
          "base_uri": "https://localhost:8080/"
        },
        "id": "BFedgmi7l9Iu",
        "outputId": "ba8f6c2d-e075-40cf-882c-e19c3a90b6be"
      },
      "execution_count": 18,
      "outputs": [
        {
          "output_type": "execute_result",
          "data": {
            "text/plain": [
              "KNeighborsClassifier(n_neighbors=3)"
            ]
          },
          "metadata": {},
          "execution_count": 18
        }
      ]
    },
    {
      "cell_type": "code",
      "source": [
        "predicts = neigh.score(X_test,y_test)"
      ],
      "metadata": {
        "id": "6RhEyruomDz8"
      },
      "execution_count": 19,
      "outputs": []
    },
    {
      "cell_type": "code",
      "source": [
        "print(\"The accuracy of the Sklearn model is\",predicts)"
      ],
      "metadata": {
        "colab": {
          "base_uri": "https://localhost:8080/"
        },
        "id": "0F4K_ajbmDJ9",
        "outputId": "005763a9-465d-4c0e-bb20-6caae0849742"
      },
      "execution_count": 20,
      "outputs": [
        {
          "output_type": "stream",
          "name": "stdout",
          "text": [
            "The accuracy of the Sklearn model is 1.0\n"
          ]
        }
      ]
    }
  ]
}