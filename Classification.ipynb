{
  "nbformat": 4,
  "nbformat_minor": 0,
  "metadata": {
    "colab": {
      "name": "Classification.ipynb",
      "provenance": [],
      "collapsed_sections": [],
      "include_colab_link": true
    },
    "kernelspec": {
      "name": "python3",
      "display_name": "Python 3"
    },
    "language_info": {
      "name": "python"
    }
  },
  "cells": [
    {
      "cell_type": "markdown",
      "metadata": {
        "id": "view-in-github",
        "colab_type": "text"
      },
      "source": [
        "<a href=\"https://colab.research.google.com/github/beesaprathyusha20/Machine_Learning/blob/main/Classification.ipynb\" target=\"_parent\"><img src=\"https://colab.research.google.com/assets/colab-badge.svg\" alt=\"Open In Colab\"/></a>"
      ]
    },
    {
      "cell_type": "code",
      "execution_count": 3,
      "metadata": {
        "id": "knGHYhGG7kaq"
      },
      "outputs": [],
      "source": [
        "import pandas as pd\n",
        "import numpy as np\n",
        "from sklearn.model_selection import train_test_split\n",
        "from sklearn.datasets import load_iris\n"
      ]
    },
    {
      "cell_type": "markdown",
      "source": [
        "KNN Classification From Scratch"
      ],
      "metadata": {
        "id": "PoEZ5u2tm-di"
      }
    },
    {
      "cell_type": "code",
      "source": [
        "class classification:                   #creating a class classifier\n",
        "  def __init__(self,k=4):           #defining a function to assign value of k\n",
        "    self.k=k                        #self is an accessing variable of that class and the value of k is assigned to it's instance        \n",
        "  \n",
        "  \n",
        "  def fit(self,X,Y):                #creating a function to the fit the data in the model  \n",
        "    assert len(X)==len(Y)           #using assert method to compare the lenght of X set and Y set\n",
        "    self.X_train=X                  #assigning the value of X\n",
        "    self.Y_train=Y                  #assigning the value of Y\n",
        "\n",
        "  def distance(self,x1,x2):         #defining a function for calculating Euclideans distance\n",
        "    x1,x2 = np.array(x1),np.array(x2)#converting the values to arrays\n",
        "    distance=0                      #initializing distance as 0\n",
        "    for i in range(len(x1)-1):      #executing the for loop for len(x1)-1 times \n",
        "      distance+=(x1[i]-x2[i])**2    #calulating the distance\n",
        "    return np.sqrt(distance)        #returning the square root of the calculated distance\n",
        "\n",
        "  def predict(self,X_test):\n",
        "    sorted_output = []              #instantiating empty list to store sorted outputs\n",
        "    for i in range(len(X_test)):    #to iterate tillthe length of X_test\n",
        "      distances = []                #hold the value of distance calculations\n",
        "      neighbors = []                #to store the neighbours\n",
        "      for j in range(len(self.X_train)): #executing this loop so that X_train data gets fitted in the model\n",
        "        dist = self.distance(self.X_train[j],X_test[i]) #this will calculate distance using the instance of X_train data and the overall distance of the X_test data\n",
        "        distances.append([dist,j])  #the above calulation is added to the distance list  \n",
        "      distances.sort()              #the list is sorted\n",
        "      distances = distances[0:self.k] #slicing the list down to its mostr relevant data points  i.e. 0:k, where k is  the total number of neighbors\n",
        "      for _, j in distances:        #loop for each instance in the sliced distances\n",
        "        neighbors.append(self.Y_train[j]) #it appends the Y_train value of the instance to the list\n",
        "      ans = max(neighbors)          #max from the list of possible neighbors is stored \n",
        "      sorted_output.append(ans)     #the max value is appended to the sorted list\n",
        "    return sorted_output            #returniong the sorted output\n",
        "\n",
        "  def score(self,X_test,Y_test):    #function for calculating final score for prediction\n",
        "    predictions = self.predict(X_test) #creating a list of predictions taken by executing the X_test and passing it through predict method\n",
        "    return(predictions == Y_test).sum()/len(Y_test)   #taking the predictions with the Y_test and summing the value, dividing it by the lenght of the Y_test to give us the percentage"
      ],
      "metadata": {
        "id": "E32fd2Agu2Ul"
      },
      "execution_count": 9,
      "outputs": []
    },
    {
      "cell_type": "markdown",
      "source": [
        "Training and spliting the data"
      ],
      "metadata": {
        "id": "IX7fuMKPk-4Q"
      }
    },
    {
      "cell_type": "code",
      "source": [
        "df = load_iris()\n",
        "d1 = df.data\n",
        "d2 = df.target\n",
        "X_train, X_test, y_train, y_test = train_test_split(d1,d2, random_state=42, test_size=0.2)\n",
        "\n"
      ],
      "metadata": {
        "id": "4yPfnV0Yk9Zk"
      },
      "execution_count": 10,
      "outputs": []
    },
    {
      "cell_type": "markdown",
      "source": [
        "Assigning the neighbors"
      ],
      "metadata": {
        "id": "TCqgf8n1wOsO"
      }
    },
    {
      "cell_type": "code",
      "source": [
        "neighbors = classification(k=3)"
      ],
      "metadata": {
        "id": "LAyjmiH0voK5"
      },
      "execution_count": 12,
      "outputs": []
    },
    {
      "cell_type": "markdown",
      "source": [
        "Fitting the model"
      ],
      "metadata": {
        "id": "B04QEB87wT11"
      }
    },
    {
      "cell_type": "code",
      "source": [
        "neighbors.fit(X_train, y_train)"
      ],
      "metadata": {
        "id": "eDxxrPC6voUB"
      },
      "execution_count": 14,
      "outputs": []
    },
    {
      "cell_type": "markdown",
      "source": [
        "Evaluating the model"
      ],
      "metadata": {
        "id": "NE8Ist7ewXnL"
      }
    },
    {
      "cell_type": "code",
      "source": [
        "prediction = neighbors.predict(X_test)"
      ],
      "metadata": {
        "id": "lj-xUlIbvocu"
      },
      "execution_count": 15,
      "outputs": []
    },
    {
      "cell_type": "markdown",
      "source": [
        "Accuracy of the model"
      ],
      "metadata": {
        "id": "Yjos8ZPSwaT8"
      }
    },
    {
      "cell_type": "code",
      "source": [
        "res_pred = neighbors.score(X_test, y_test)\n",
        "print(res_pred)"
      ],
      "metadata": {
        "colab": {
          "base_uri": "https://localhost:8080/"
        },
        "id": "8KcMDtk6v8Gg",
        "outputId": "af275270-22e9-49e3-f8b8-176837d29812"
      },
      "execution_count": 16,
      "outputs": [
        {
          "output_type": "stream",
          "name": "stdout",
          "text": [
            "0.9666666666666667\n"
          ]
        }
      ]
    },
    {
      "cell_type": "markdown",
      "source": [
        "We received 96% accuracy in knn classification without using sklearn libraries"
      ],
      "metadata": {
        "id": "k7VKpINAwdtp"
      }
    },
    {
      "cell_type": "markdown",
      "source": [
        "KNN Classification using sklearn library"
      ],
      "metadata": {
        "id": "hLJeWUfZnJGZ"
      }
    },
    {
      "cell_type": "code",
      "source": [
        "from sklearn.neighbors import KNeighborsClassifier\n",
        "\n"
      ],
      "metadata": {
        "id": "a9oxtHmWlV39"
      },
      "execution_count": 18,
      "outputs": []
    },
    {
      "cell_type": "code",
      "source": [
        "neigh = KNeighborsClassifier(n_neighbors=3)"
      ],
      "metadata": {
        "id": "9nAaHo8Il0_d"
      },
      "execution_count": 20,
      "outputs": []
    },
    {
      "cell_type": "code",
      "source": [
        "neigh.fit(X_train,y_train)"
      ],
      "metadata": {
        "colab": {
          "base_uri": "https://localhost:8080/"
        },
        "id": "BFedgmi7l9Iu",
        "outputId": "d7f61c54-ddb8-4a5b-aa24-fa69a094db43"
      },
      "execution_count": 21,
      "outputs": [
        {
          "output_type": "execute_result",
          "data": {
            "text/plain": [
              "KNeighborsClassifier(n_neighbors=3)"
            ]
          },
          "metadata": {},
          "execution_count": 21
        }
      ]
    },
    {
      "cell_type": "code",
      "source": [
        "predicts = neigh.score(X_test,y_test)"
      ],
      "metadata": {
        "id": "6RhEyruomDz8"
      },
      "execution_count": 22,
      "outputs": []
    },
    {
      "cell_type": "code",
      "source": [
        "print(\"The accuracy of the Sklearn model is\",predicts)"
      ],
      "metadata": {
        "colab": {
          "base_uri": "https://localhost:8080/"
        },
        "id": "0F4K_ajbmDJ9",
        "outputId": "81593691-45ae-466d-fb35-55c516a26618"
      },
      "execution_count": 23,
      "outputs": [
        {
          "output_type": "stream",
          "name": "stdout",
          "text": [
            "The accuracy of the Sklearn model is 1.0\n"
          ]
        }
      ]
    },
    {
      "cell_type": "markdown",
      "source": [
        "We received 100% accuracy in knn classification using sklearn libraries"
      ],
      "metadata": {
        "id": "kGYAVtoLwtp3"
      }
    }
  ]
}