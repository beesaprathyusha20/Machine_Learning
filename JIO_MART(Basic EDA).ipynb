{
  "nbformat": 4,
  "nbformat_minor": 0,
  "metadata": {
    "colab": {
      "name": "JIO_MART.ipynb",
      "provenance": [],
      "collapsed_sections": [],
      "mount_file_id": "1hE-NmQarUdIiZuK15b-jplmw9QGSFcNz",
      "authorship_tag": "ABX9TyNsZCJUzj6NpWQLrjiREvWM",
      "include_colab_link": true
    },
    "kernelspec": {
      "name": "python3",
      "display_name": "Python 3"
    },
    "language_info": {
      "name": "python"
    }
  },
  "cells": [
    {
      "cell_type": "markdown",
      "metadata": {
        "id": "view-in-github",
        "colab_type": "text"
      },
      "source": [
        "<a href=\"https://colab.research.google.com/github/beesaprathyusha20/Machine_Learning/blob/main/JIO_MART(Basic%20EDA).ipynb\" target=\"_parent\"><img src=\"https://colab.research.google.com/assets/colab-badge.svg\" alt=\"Open In Colab\"/></a>"
      ]
    },
    {
      "cell_type": "code",
      "execution_count": 1,
      "metadata": {
        "id": "em5QaBlblsZ1"
      },
      "outputs": [],
      "source": [
        "import pandas as pd #importing pandas library"
      ]
    },
    {
      "cell_type": "code",
      "source": [
        "df = pd.read_csv('/content/drive/MyDrive/Datasets/jio_mart_items.csv')\n",
        "df #Reading the dataset and displaying it"
      ],
      "metadata": {
        "colab": {
          "base_uri": "https://localhost:8080/",
          "height": 424
        },
        "id": "P4MJFxPUl3Uz",
        "outputId": "d214d732-e769-408c-bd02-cbd01c68e567"
      },
      "execution_count": 2,
      "outputs": [
        {
          "output_type": "execute_result",
          "data": {
            "text/plain": [
              "         category         sub_category  \\\n",
              "0       Groceries  Fruits & Vegetables   \n",
              "1       Groceries  Fruits & Vegetables   \n",
              "2       Groceries  Fruits & Vegetables   \n",
              "3       Groceries  Fruits & Vegetables   \n",
              "4       Groceries  Fruits & Vegetables   \n",
              "...           ...                  ...   \n",
              "162308  Jewellery       Fine Jewellery   \n",
              "162309  Jewellery       Fine Jewellery   \n",
              "162310  Jewellery       Fine Jewellery   \n",
              "162311  Jewellery       Fine Jewellery   \n",
              "162312  Jewellery       Fine Jewellery   \n",
              "\n",
              "                                                     href  \\\n",
              "0       https://www.jiomart.com/c/groceries/fruits-veg...   \n",
              "1       https://www.jiomart.com/c/groceries/fruits-veg...   \n",
              "2       https://www.jiomart.com/c/groceries/fruits-veg...   \n",
              "3       https://www.jiomart.com/c/groceries/fruits-veg...   \n",
              "4       https://www.jiomart.com/c/groceries/fruits-veg...   \n",
              "...                                                   ...   \n",
              "162308  https://www.jiomart.com/c/jewellery/fine-jewel...   \n",
              "162309  https://www.jiomart.com/c/jewellery/fine-jewel...   \n",
              "162310  https://www.jiomart.com/c/jewellery/fine-jewel...   \n",
              "162311  https://www.jiomart.com/c/jewellery/fine-jewel...   \n",
              "162312  https://www.jiomart.com/c/jewellery/fine-jewel...   \n",
              "\n",
              "                                                    items   price  \n",
              "0               Fresh Dates (Pack) (Approx 450 g - 500 g)   109.0  \n",
              "1       Tender Coconut Cling Wrapped (1 pc) (Approx 90...    49.0  \n",
              "2                                            Mosambi 1 kg    69.0  \n",
              "3                                    Orange Imported 1 kg   125.0  \n",
              "4       Banana Robusta 6 pcs (Box) (Approx 800 g - 110...    44.0  \n",
              "...                                                   ...     ...  \n",
              "162308  Reliance Jewels Ag 99.9 5.6 gm Ganesha Silver ...  1669.0  \n",
              "162309  Reliance Jewels Ag 99.9 4.58 gm Ganesha Silver...  1391.0  \n",
              "162310  Reliance Jewels Ag 99.9 2.31 gm Ganesha Silver...   834.0  \n",
              "162311  Reliance Jewels Ag 99.9 7.76 gm Ganesha Silver...  2276.0  \n",
              "162312  Reliance Jewels Ag 99.9 2.9 gm Balaji Silver Idol   834.0  \n",
              "\n",
              "[162313 rows x 5 columns]"
            ],
            "text/html": [
              "\n",
              "  <div id=\"df-87ba427e-8323-42f4-93df-c23e5c483edf\">\n",
              "    <div class=\"colab-df-container\">\n",
              "      <div>\n",
              "<style scoped>\n",
              "    .dataframe tbody tr th:only-of-type {\n",
              "        vertical-align: middle;\n",
              "    }\n",
              "\n",
              "    .dataframe tbody tr th {\n",
              "        vertical-align: top;\n",
              "    }\n",
              "\n",
              "    .dataframe thead th {\n",
              "        text-align: right;\n",
              "    }\n",
              "</style>\n",
              "<table border=\"1\" class=\"dataframe\">\n",
              "  <thead>\n",
              "    <tr style=\"text-align: right;\">\n",
              "      <th></th>\n",
              "      <th>category</th>\n",
              "      <th>sub_category</th>\n",
              "      <th>href</th>\n",
              "      <th>items</th>\n",
              "      <th>price</th>\n",
              "    </tr>\n",
              "  </thead>\n",
              "  <tbody>\n",
              "    <tr>\n",
              "      <th>0</th>\n",
              "      <td>Groceries</td>\n",
              "      <td>Fruits &amp; Vegetables</td>\n",
              "      <td>https://www.jiomart.com/c/groceries/fruits-veg...</td>\n",
              "      <td>Fresh Dates (Pack) (Approx 450 g - 500 g)</td>\n",
              "      <td>109.0</td>\n",
              "    </tr>\n",
              "    <tr>\n",
              "      <th>1</th>\n",
              "      <td>Groceries</td>\n",
              "      <td>Fruits &amp; Vegetables</td>\n",
              "      <td>https://www.jiomart.com/c/groceries/fruits-veg...</td>\n",
              "      <td>Tender Coconut Cling Wrapped (1 pc) (Approx 90...</td>\n",
              "      <td>49.0</td>\n",
              "    </tr>\n",
              "    <tr>\n",
              "      <th>2</th>\n",
              "      <td>Groceries</td>\n",
              "      <td>Fruits &amp; Vegetables</td>\n",
              "      <td>https://www.jiomart.com/c/groceries/fruits-veg...</td>\n",
              "      <td>Mosambi 1 kg</td>\n",
              "      <td>69.0</td>\n",
              "    </tr>\n",
              "    <tr>\n",
              "      <th>3</th>\n",
              "      <td>Groceries</td>\n",
              "      <td>Fruits &amp; Vegetables</td>\n",
              "      <td>https://www.jiomart.com/c/groceries/fruits-veg...</td>\n",
              "      <td>Orange Imported 1 kg</td>\n",
              "      <td>125.0</td>\n",
              "    </tr>\n",
              "    <tr>\n",
              "      <th>4</th>\n",
              "      <td>Groceries</td>\n",
              "      <td>Fruits &amp; Vegetables</td>\n",
              "      <td>https://www.jiomart.com/c/groceries/fruits-veg...</td>\n",
              "      <td>Banana Robusta 6 pcs (Box) (Approx 800 g - 110...</td>\n",
              "      <td>44.0</td>\n",
              "    </tr>\n",
              "    <tr>\n",
              "      <th>...</th>\n",
              "      <td>...</td>\n",
              "      <td>...</td>\n",
              "      <td>...</td>\n",
              "      <td>...</td>\n",
              "      <td>...</td>\n",
              "    </tr>\n",
              "    <tr>\n",
              "      <th>162308</th>\n",
              "      <td>Jewellery</td>\n",
              "      <td>Fine Jewellery</td>\n",
              "      <td>https://www.jiomart.com/c/jewellery/fine-jewel...</td>\n",
              "      <td>Reliance Jewels Ag 99.9 5.6 gm Ganesha Silver ...</td>\n",
              "      <td>1669.0</td>\n",
              "    </tr>\n",
              "    <tr>\n",
              "      <th>162309</th>\n",
              "      <td>Jewellery</td>\n",
              "      <td>Fine Jewellery</td>\n",
              "      <td>https://www.jiomart.com/c/jewellery/fine-jewel...</td>\n",
              "      <td>Reliance Jewels Ag 99.9 4.58 gm Ganesha Silver...</td>\n",
              "      <td>1391.0</td>\n",
              "    </tr>\n",
              "    <tr>\n",
              "      <th>162310</th>\n",
              "      <td>Jewellery</td>\n",
              "      <td>Fine Jewellery</td>\n",
              "      <td>https://www.jiomart.com/c/jewellery/fine-jewel...</td>\n",
              "      <td>Reliance Jewels Ag 99.9 2.31 gm Ganesha Silver...</td>\n",
              "      <td>834.0</td>\n",
              "    </tr>\n",
              "    <tr>\n",
              "      <th>162311</th>\n",
              "      <td>Jewellery</td>\n",
              "      <td>Fine Jewellery</td>\n",
              "      <td>https://www.jiomart.com/c/jewellery/fine-jewel...</td>\n",
              "      <td>Reliance Jewels Ag 99.9 7.76 gm Ganesha Silver...</td>\n",
              "      <td>2276.0</td>\n",
              "    </tr>\n",
              "    <tr>\n",
              "      <th>162312</th>\n",
              "      <td>Jewellery</td>\n",
              "      <td>Fine Jewellery</td>\n",
              "      <td>https://www.jiomart.com/c/jewellery/fine-jewel...</td>\n",
              "      <td>Reliance Jewels Ag 99.9 2.9 gm Balaji Silver Idol</td>\n",
              "      <td>834.0</td>\n",
              "    </tr>\n",
              "  </tbody>\n",
              "</table>\n",
              "<p>162313 rows × 5 columns</p>\n",
              "</div>\n",
              "      <button class=\"colab-df-convert\" onclick=\"convertToInteractive('df-87ba427e-8323-42f4-93df-c23e5c483edf')\"\n",
              "              title=\"Convert this dataframe to an interactive table.\"\n",
              "              style=\"display:none;\">\n",
              "        \n",
              "  <svg xmlns=\"http://www.w3.org/2000/svg\" height=\"24px\"viewBox=\"0 0 24 24\"\n",
              "       width=\"24px\">\n",
              "    <path d=\"M0 0h24v24H0V0z\" fill=\"none\"/>\n",
              "    <path d=\"M18.56 5.44l.94 2.06.94-2.06 2.06-.94-2.06-.94-.94-2.06-.94 2.06-2.06.94zm-11 1L8.5 8.5l.94-2.06 2.06-.94-2.06-.94L8.5 2.5l-.94 2.06-2.06.94zm10 10l.94 2.06.94-2.06 2.06-.94-2.06-.94-.94-2.06-.94 2.06-2.06.94z\"/><path d=\"M17.41 7.96l-1.37-1.37c-.4-.4-.92-.59-1.43-.59-.52 0-1.04.2-1.43.59L10.3 9.45l-7.72 7.72c-.78.78-.78 2.05 0 2.83L4 21.41c.39.39.9.59 1.41.59.51 0 1.02-.2 1.41-.59l7.78-7.78 2.81-2.81c.8-.78.8-2.07 0-2.86zM5.41 20L4 18.59l7.72-7.72 1.47 1.35L5.41 20z\"/>\n",
              "  </svg>\n",
              "      </button>\n",
              "      \n",
              "  <style>\n",
              "    .colab-df-container {\n",
              "      display:flex;\n",
              "      flex-wrap:wrap;\n",
              "      gap: 12px;\n",
              "    }\n",
              "\n",
              "    .colab-df-convert {\n",
              "      background-color: #E8F0FE;\n",
              "      border: none;\n",
              "      border-radius: 50%;\n",
              "      cursor: pointer;\n",
              "      display: none;\n",
              "      fill: #1967D2;\n",
              "      height: 32px;\n",
              "      padding: 0 0 0 0;\n",
              "      width: 32px;\n",
              "    }\n",
              "\n",
              "    .colab-df-convert:hover {\n",
              "      background-color: #E2EBFA;\n",
              "      box-shadow: 0px 1px 2px rgba(60, 64, 67, 0.3), 0px 1px 3px 1px rgba(60, 64, 67, 0.15);\n",
              "      fill: #174EA6;\n",
              "    }\n",
              "\n",
              "    [theme=dark] .colab-df-convert {\n",
              "      background-color: #3B4455;\n",
              "      fill: #D2E3FC;\n",
              "    }\n",
              "\n",
              "    [theme=dark] .colab-df-convert:hover {\n",
              "      background-color: #434B5C;\n",
              "      box-shadow: 0px 1px 3px 1px rgba(0, 0, 0, 0.15);\n",
              "      filter: drop-shadow(0px 1px 2px rgba(0, 0, 0, 0.3));\n",
              "      fill: #FFFFFF;\n",
              "    }\n",
              "  </style>\n",
              "\n",
              "      <script>\n",
              "        const buttonEl =\n",
              "          document.querySelector('#df-87ba427e-8323-42f4-93df-c23e5c483edf button.colab-df-convert');\n",
              "        buttonEl.style.display =\n",
              "          google.colab.kernel.accessAllowed ? 'block' : 'none';\n",
              "\n",
              "        async function convertToInteractive(key) {\n",
              "          const element = document.querySelector('#df-87ba427e-8323-42f4-93df-c23e5c483edf');\n",
              "          const dataTable =\n",
              "            await google.colab.kernel.invokeFunction('convertToInteractive',\n",
              "                                                     [key], {});\n",
              "          if (!dataTable) return;\n",
              "\n",
              "          const docLinkHtml = 'Like what you see? Visit the ' +\n",
              "            '<a target=\"_blank\" href=https://colab.research.google.com/notebooks/data_table.ipynb>data table notebook</a>'\n",
              "            + ' to learn more about interactive tables.';\n",
              "          element.innerHTML = '';\n",
              "          dataTable['output_type'] = 'display_data';\n",
              "          await google.colab.output.renderOutput(dataTable, element);\n",
              "          const docLink = document.createElement('div');\n",
              "          docLink.innerHTML = docLinkHtml;\n",
              "          element.appendChild(docLink);\n",
              "        }\n",
              "      </script>\n",
              "    </div>\n",
              "  </div>\n",
              "  "
            ]
          },
          "metadata": {},
          "execution_count": 2
        }
      ]
    },
    {
      "cell_type": "markdown",
      "source": [
        "BASIC EDA"
      ],
      "metadata": {
        "id": "vYxJw4Ozl_75"
      }
    },
    {
      "cell_type": "code",
      "source": [
        "df.head() #displaying first five rows of the data"
      ],
      "metadata": {
        "colab": {
          "base_uri": "https://localhost:8080/",
          "height": 206
        },
        "id": "mcT01xJQl9Px",
        "outputId": "9fe9cf97-a87b-4e12-d203-3f9c2f138fdd"
      },
      "execution_count": 3,
      "outputs": [
        {
          "output_type": "execute_result",
          "data": {
            "text/plain": [
              "    category         sub_category  \\\n",
              "0  Groceries  Fruits & Vegetables   \n",
              "1  Groceries  Fruits & Vegetables   \n",
              "2  Groceries  Fruits & Vegetables   \n",
              "3  Groceries  Fruits & Vegetables   \n",
              "4  Groceries  Fruits & Vegetables   \n",
              "\n",
              "                                                href  \\\n",
              "0  https://www.jiomart.com/c/groceries/fruits-veg...   \n",
              "1  https://www.jiomart.com/c/groceries/fruits-veg...   \n",
              "2  https://www.jiomart.com/c/groceries/fruits-veg...   \n",
              "3  https://www.jiomart.com/c/groceries/fruits-veg...   \n",
              "4  https://www.jiomart.com/c/groceries/fruits-veg...   \n",
              "\n",
              "                                               items  price  \n",
              "0          Fresh Dates (Pack) (Approx 450 g - 500 g)  109.0  \n",
              "1  Tender Coconut Cling Wrapped (1 pc) (Approx 90...   49.0  \n",
              "2                                       Mosambi 1 kg   69.0  \n",
              "3                               Orange Imported 1 kg  125.0  \n",
              "4  Banana Robusta 6 pcs (Box) (Approx 800 g - 110...   44.0  "
            ],
            "text/html": [
              "\n",
              "  <div id=\"df-ef608b2f-c477-4431-8c0b-5ebd4c46575e\">\n",
              "    <div class=\"colab-df-container\">\n",
              "      <div>\n",
              "<style scoped>\n",
              "    .dataframe tbody tr th:only-of-type {\n",
              "        vertical-align: middle;\n",
              "    }\n",
              "\n",
              "    .dataframe tbody tr th {\n",
              "        vertical-align: top;\n",
              "    }\n",
              "\n",
              "    .dataframe thead th {\n",
              "        text-align: right;\n",
              "    }\n",
              "</style>\n",
              "<table border=\"1\" class=\"dataframe\">\n",
              "  <thead>\n",
              "    <tr style=\"text-align: right;\">\n",
              "      <th></th>\n",
              "      <th>category</th>\n",
              "      <th>sub_category</th>\n",
              "      <th>href</th>\n",
              "      <th>items</th>\n",
              "      <th>price</th>\n",
              "    </tr>\n",
              "  </thead>\n",
              "  <tbody>\n",
              "    <tr>\n",
              "      <th>0</th>\n",
              "      <td>Groceries</td>\n",
              "      <td>Fruits &amp; Vegetables</td>\n",
              "      <td>https://www.jiomart.com/c/groceries/fruits-veg...</td>\n",
              "      <td>Fresh Dates (Pack) (Approx 450 g - 500 g)</td>\n",
              "      <td>109.0</td>\n",
              "    </tr>\n",
              "    <tr>\n",
              "      <th>1</th>\n",
              "      <td>Groceries</td>\n",
              "      <td>Fruits &amp; Vegetables</td>\n",
              "      <td>https://www.jiomart.com/c/groceries/fruits-veg...</td>\n",
              "      <td>Tender Coconut Cling Wrapped (1 pc) (Approx 90...</td>\n",
              "      <td>49.0</td>\n",
              "    </tr>\n",
              "    <tr>\n",
              "      <th>2</th>\n",
              "      <td>Groceries</td>\n",
              "      <td>Fruits &amp; Vegetables</td>\n",
              "      <td>https://www.jiomart.com/c/groceries/fruits-veg...</td>\n",
              "      <td>Mosambi 1 kg</td>\n",
              "      <td>69.0</td>\n",
              "    </tr>\n",
              "    <tr>\n",
              "      <th>3</th>\n",
              "      <td>Groceries</td>\n",
              "      <td>Fruits &amp; Vegetables</td>\n",
              "      <td>https://www.jiomart.com/c/groceries/fruits-veg...</td>\n",
              "      <td>Orange Imported 1 kg</td>\n",
              "      <td>125.0</td>\n",
              "    </tr>\n",
              "    <tr>\n",
              "      <th>4</th>\n",
              "      <td>Groceries</td>\n",
              "      <td>Fruits &amp; Vegetables</td>\n",
              "      <td>https://www.jiomart.com/c/groceries/fruits-veg...</td>\n",
              "      <td>Banana Robusta 6 pcs (Box) (Approx 800 g - 110...</td>\n",
              "      <td>44.0</td>\n",
              "    </tr>\n",
              "  </tbody>\n",
              "</table>\n",
              "</div>\n",
              "      <button class=\"colab-df-convert\" onclick=\"convertToInteractive('df-ef608b2f-c477-4431-8c0b-5ebd4c46575e')\"\n",
              "              title=\"Convert this dataframe to an interactive table.\"\n",
              "              style=\"display:none;\">\n",
              "        \n",
              "  <svg xmlns=\"http://www.w3.org/2000/svg\" height=\"24px\"viewBox=\"0 0 24 24\"\n",
              "       width=\"24px\">\n",
              "    <path d=\"M0 0h24v24H0V0z\" fill=\"none\"/>\n",
              "    <path d=\"M18.56 5.44l.94 2.06.94-2.06 2.06-.94-2.06-.94-.94-2.06-.94 2.06-2.06.94zm-11 1L8.5 8.5l.94-2.06 2.06-.94-2.06-.94L8.5 2.5l-.94 2.06-2.06.94zm10 10l.94 2.06.94-2.06 2.06-.94-2.06-.94-.94-2.06-.94 2.06-2.06.94z\"/><path d=\"M17.41 7.96l-1.37-1.37c-.4-.4-.92-.59-1.43-.59-.52 0-1.04.2-1.43.59L10.3 9.45l-7.72 7.72c-.78.78-.78 2.05 0 2.83L4 21.41c.39.39.9.59 1.41.59.51 0 1.02-.2 1.41-.59l7.78-7.78 2.81-2.81c.8-.78.8-2.07 0-2.86zM5.41 20L4 18.59l7.72-7.72 1.47 1.35L5.41 20z\"/>\n",
              "  </svg>\n",
              "      </button>\n",
              "      \n",
              "  <style>\n",
              "    .colab-df-container {\n",
              "      display:flex;\n",
              "      flex-wrap:wrap;\n",
              "      gap: 12px;\n",
              "    }\n",
              "\n",
              "    .colab-df-convert {\n",
              "      background-color: #E8F0FE;\n",
              "      border: none;\n",
              "      border-radius: 50%;\n",
              "      cursor: pointer;\n",
              "      display: none;\n",
              "      fill: #1967D2;\n",
              "      height: 32px;\n",
              "      padding: 0 0 0 0;\n",
              "      width: 32px;\n",
              "    }\n",
              "\n",
              "    .colab-df-convert:hover {\n",
              "      background-color: #E2EBFA;\n",
              "      box-shadow: 0px 1px 2px rgba(60, 64, 67, 0.3), 0px 1px 3px 1px rgba(60, 64, 67, 0.15);\n",
              "      fill: #174EA6;\n",
              "    }\n",
              "\n",
              "    [theme=dark] .colab-df-convert {\n",
              "      background-color: #3B4455;\n",
              "      fill: #D2E3FC;\n",
              "    }\n",
              "\n",
              "    [theme=dark] .colab-df-convert:hover {\n",
              "      background-color: #434B5C;\n",
              "      box-shadow: 0px 1px 3px 1px rgba(0, 0, 0, 0.15);\n",
              "      filter: drop-shadow(0px 1px 2px rgba(0, 0, 0, 0.3));\n",
              "      fill: #FFFFFF;\n",
              "    }\n",
              "  </style>\n",
              "\n",
              "      <script>\n",
              "        const buttonEl =\n",
              "          document.querySelector('#df-ef608b2f-c477-4431-8c0b-5ebd4c46575e button.colab-df-convert');\n",
              "        buttonEl.style.display =\n",
              "          google.colab.kernel.accessAllowed ? 'block' : 'none';\n",
              "\n",
              "        async function convertToInteractive(key) {\n",
              "          const element = document.querySelector('#df-ef608b2f-c477-4431-8c0b-5ebd4c46575e');\n",
              "          const dataTable =\n",
              "            await google.colab.kernel.invokeFunction('convertToInteractive',\n",
              "                                                     [key], {});\n",
              "          if (!dataTable) return;\n",
              "\n",
              "          const docLinkHtml = 'Like what you see? Visit the ' +\n",
              "            '<a target=\"_blank\" href=https://colab.research.google.com/notebooks/data_table.ipynb>data table notebook</a>'\n",
              "            + ' to learn more about interactive tables.';\n",
              "          element.innerHTML = '';\n",
              "          dataTable['output_type'] = 'display_data';\n",
              "          await google.colab.output.renderOutput(dataTable, element);\n",
              "          const docLink = document.createElement('div');\n",
              "          docLink.innerHTML = docLinkHtml;\n",
              "          element.appendChild(docLink);\n",
              "        }\n",
              "      </script>\n",
              "    </div>\n",
              "  </div>\n",
              "  "
            ]
          },
          "metadata": {},
          "execution_count": 3
        }
      ]
    },
    {
      "cell_type": "code",
      "source": [
        "df.tail() #displaying last five rows of the data"
      ],
      "metadata": {
        "colab": {
          "base_uri": "https://localhost:8080/",
          "height": 206
        },
        "id": "9PLsRHB5mBvo",
        "outputId": "ee0cf86d-f57c-46fe-b608-3e851e8e2a46"
      },
      "execution_count": 4,
      "outputs": [
        {
          "output_type": "execute_result",
          "data": {
            "text/plain": [
              "         category    sub_category  \\\n",
              "162308  Jewellery  Fine Jewellery   \n",
              "162309  Jewellery  Fine Jewellery   \n",
              "162310  Jewellery  Fine Jewellery   \n",
              "162311  Jewellery  Fine Jewellery   \n",
              "162312  Jewellery  Fine Jewellery   \n",
              "\n",
              "                                                     href  \\\n",
              "162308  https://www.jiomart.com/c/jewellery/fine-jewel...   \n",
              "162309  https://www.jiomart.com/c/jewellery/fine-jewel...   \n",
              "162310  https://www.jiomart.com/c/jewellery/fine-jewel...   \n",
              "162311  https://www.jiomart.com/c/jewellery/fine-jewel...   \n",
              "162312  https://www.jiomart.com/c/jewellery/fine-jewel...   \n",
              "\n",
              "                                                    items   price  \n",
              "162308  Reliance Jewels Ag 99.9 5.6 gm Ganesha Silver ...  1669.0  \n",
              "162309  Reliance Jewels Ag 99.9 4.58 gm Ganesha Silver...  1391.0  \n",
              "162310  Reliance Jewels Ag 99.9 2.31 gm Ganesha Silver...   834.0  \n",
              "162311  Reliance Jewels Ag 99.9 7.76 gm Ganesha Silver...  2276.0  \n",
              "162312  Reliance Jewels Ag 99.9 2.9 gm Balaji Silver Idol   834.0  "
            ],
            "text/html": [
              "\n",
              "  <div id=\"df-5f788115-96b5-43da-82af-2296676d6b5d\">\n",
              "    <div class=\"colab-df-container\">\n",
              "      <div>\n",
              "<style scoped>\n",
              "    .dataframe tbody tr th:only-of-type {\n",
              "        vertical-align: middle;\n",
              "    }\n",
              "\n",
              "    .dataframe tbody tr th {\n",
              "        vertical-align: top;\n",
              "    }\n",
              "\n",
              "    .dataframe thead th {\n",
              "        text-align: right;\n",
              "    }\n",
              "</style>\n",
              "<table border=\"1\" class=\"dataframe\">\n",
              "  <thead>\n",
              "    <tr style=\"text-align: right;\">\n",
              "      <th></th>\n",
              "      <th>category</th>\n",
              "      <th>sub_category</th>\n",
              "      <th>href</th>\n",
              "      <th>items</th>\n",
              "      <th>price</th>\n",
              "    </tr>\n",
              "  </thead>\n",
              "  <tbody>\n",
              "    <tr>\n",
              "      <th>162308</th>\n",
              "      <td>Jewellery</td>\n",
              "      <td>Fine Jewellery</td>\n",
              "      <td>https://www.jiomart.com/c/jewellery/fine-jewel...</td>\n",
              "      <td>Reliance Jewels Ag 99.9 5.6 gm Ganesha Silver ...</td>\n",
              "      <td>1669.0</td>\n",
              "    </tr>\n",
              "    <tr>\n",
              "      <th>162309</th>\n",
              "      <td>Jewellery</td>\n",
              "      <td>Fine Jewellery</td>\n",
              "      <td>https://www.jiomart.com/c/jewellery/fine-jewel...</td>\n",
              "      <td>Reliance Jewels Ag 99.9 4.58 gm Ganesha Silver...</td>\n",
              "      <td>1391.0</td>\n",
              "    </tr>\n",
              "    <tr>\n",
              "      <th>162310</th>\n",
              "      <td>Jewellery</td>\n",
              "      <td>Fine Jewellery</td>\n",
              "      <td>https://www.jiomart.com/c/jewellery/fine-jewel...</td>\n",
              "      <td>Reliance Jewels Ag 99.9 2.31 gm Ganesha Silver...</td>\n",
              "      <td>834.0</td>\n",
              "    </tr>\n",
              "    <tr>\n",
              "      <th>162311</th>\n",
              "      <td>Jewellery</td>\n",
              "      <td>Fine Jewellery</td>\n",
              "      <td>https://www.jiomart.com/c/jewellery/fine-jewel...</td>\n",
              "      <td>Reliance Jewels Ag 99.9 7.76 gm Ganesha Silver...</td>\n",
              "      <td>2276.0</td>\n",
              "    </tr>\n",
              "    <tr>\n",
              "      <th>162312</th>\n",
              "      <td>Jewellery</td>\n",
              "      <td>Fine Jewellery</td>\n",
              "      <td>https://www.jiomart.com/c/jewellery/fine-jewel...</td>\n",
              "      <td>Reliance Jewels Ag 99.9 2.9 gm Balaji Silver Idol</td>\n",
              "      <td>834.0</td>\n",
              "    </tr>\n",
              "  </tbody>\n",
              "</table>\n",
              "</div>\n",
              "      <button class=\"colab-df-convert\" onclick=\"convertToInteractive('df-5f788115-96b5-43da-82af-2296676d6b5d')\"\n",
              "              title=\"Convert this dataframe to an interactive table.\"\n",
              "              style=\"display:none;\">\n",
              "        \n",
              "  <svg xmlns=\"http://www.w3.org/2000/svg\" height=\"24px\"viewBox=\"0 0 24 24\"\n",
              "       width=\"24px\">\n",
              "    <path d=\"M0 0h24v24H0V0z\" fill=\"none\"/>\n",
              "    <path d=\"M18.56 5.44l.94 2.06.94-2.06 2.06-.94-2.06-.94-.94-2.06-.94 2.06-2.06.94zm-11 1L8.5 8.5l.94-2.06 2.06-.94-2.06-.94L8.5 2.5l-.94 2.06-2.06.94zm10 10l.94 2.06.94-2.06 2.06-.94-2.06-.94-.94-2.06-.94 2.06-2.06.94z\"/><path d=\"M17.41 7.96l-1.37-1.37c-.4-.4-.92-.59-1.43-.59-.52 0-1.04.2-1.43.59L10.3 9.45l-7.72 7.72c-.78.78-.78 2.05 0 2.83L4 21.41c.39.39.9.59 1.41.59.51 0 1.02-.2 1.41-.59l7.78-7.78 2.81-2.81c.8-.78.8-2.07 0-2.86zM5.41 20L4 18.59l7.72-7.72 1.47 1.35L5.41 20z\"/>\n",
              "  </svg>\n",
              "      </button>\n",
              "      \n",
              "  <style>\n",
              "    .colab-df-container {\n",
              "      display:flex;\n",
              "      flex-wrap:wrap;\n",
              "      gap: 12px;\n",
              "    }\n",
              "\n",
              "    .colab-df-convert {\n",
              "      background-color: #E8F0FE;\n",
              "      border: none;\n",
              "      border-radius: 50%;\n",
              "      cursor: pointer;\n",
              "      display: none;\n",
              "      fill: #1967D2;\n",
              "      height: 32px;\n",
              "      padding: 0 0 0 0;\n",
              "      width: 32px;\n",
              "    }\n",
              "\n",
              "    .colab-df-convert:hover {\n",
              "      background-color: #E2EBFA;\n",
              "      box-shadow: 0px 1px 2px rgba(60, 64, 67, 0.3), 0px 1px 3px 1px rgba(60, 64, 67, 0.15);\n",
              "      fill: #174EA6;\n",
              "    }\n",
              "\n",
              "    [theme=dark] .colab-df-convert {\n",
              "      background-color: #3B4455;\n",
              "      fill: #D2E3FC;\n",
              "    }\n",
              "\n",
              "    [theme=dark] .colab-df-convert:hover {\n",
              "      background-color: #434B5C;\n",
              "      box-shadow: 0px 1px 3px 1px rgba(0, 0, 0, 0.15);\n",
              "      filter: drop-shadow(0px 1px 2px rgba(0, 0, 0, 0.3));\n",
              "      fill: #FFFFFF;\n",
              "    }\n",
              "  </style>\n",
              "\n",
              "      <script>\n",
              "        const buttonEl =\n",
              "          document.querySelector('#df-5f788115-96b5-43da-82af-2296676d6b5d button.colab-df-convert');\n",
              "        buttonEl.style.display =\n",
              "          google.colab.kernel.accessAllowed ? 'block' : 'none';\n",
              "\n",
              "        async function convertToInteractive(key) {\n",
              "          const element = document.querySelector('#df-5f788115-96b5-43da-82af-2296676d6b5d');\n",
              "          const dataTable =\n",
              "            await google.colab.kernel.invokeFunction('convertToInteractive',\n",
              "                                                     [key], {});\n",
              "          if (!dataTable) return;\n",
              "\n",
              "          const docLinkHtml = 'Like what you see? Visit the ' +\n",
              "            '<a target=\"_blank\" href=https://colab.research.google.com/notebooks/data_table.ipynb>data table notebook</a>'\n",
              "            + ' to learn more about interactive tables.';\n",
              "          element.innerHTML = '';\n",
              "          dataTable['output_type'] = 'display_data';\n",
              "          await google.colab.output.renderOutput(dataTable, element);\n",
              "          const docLink = document.createElement('div');\n",
              "          docLink.innerHTML = docLinkHtml;\n",
              "          element.appendChild(docLink);\n",
              "        }\n",
              "      </script>\n",
              "    </div>\n",
              "  </div>\n",
              "  "
            ]
          },
          "metadata": {},
          "execution_count": 4
        }
      ]
    },
    {
      "cell_type": "code",
      "source": [
        "df.shape #displaying the rows(162313) and columns(5) of the data"
      ],
      "metadata": {
        "colab": {
          "base_uri": "https://localhost:8080/"
        },
        "id": "yZptbI5fmDVv",
        "outputId": "99ac29eb-85dd-4a25-d73c-0d3e026ef1ba"
      },
      "execution_count": 5,
      "outputs": [
        {
          "output_type": "execute_result",
          "data": {
            "text/plain": [
              "(162313, 5)"
            ]
          },
          "metadata": {},
          "execution_count": 5
        }
      ]
    },
    {
      "cell_type": "code",
      "source": [
        "df.count() #displaying the count of the data"
      ],
      "metadata": {
        "colab": {
          "base_uri": "https://localhost:8080/"
        },
        "id": "jnsLZW8mmEwF",
        "outputId": "aa2d9217-4bf6-4f80-fb85-415e3188af16"
      },
      "execution_count": 6,
      "outputs": [
        {
          "output_type": "execute_result",
          "data": {
            "text/plain": [
              "category        162313\n",
              "sub_category    162313\n",
              "href            162313\n",
              "items           162280\n",
              "price           162282\n",
              "dtype: int64"
            ]
          },
          "metadata": {},
          "execution_count": 6
        }
      ]
    },
    {
      "cell_type": "code",
      "source": [
        "df.dtypes #displaying the datatypes of the features in the dataset"
      ],
      "metadata": {
        "colab": {
          "base_uri": "https://localhost:8080/"
        },
        "id": "V0NIki4DmHDw",
        "outputId": "7f33db7b-3f2c-4f23-983c-7418f332b4e5"
      },
      "execution_count": 7,
      "outputs": [
        {
          "output_type": "execute_result",
          "data": {
            "text/plain": [
              "category         object\n",
              "sub_category     object\n",
              "href             object\n",
              "items            object\n",
              "price           float64\n",
              "dtype: object"
            ]
          },
          "metadata": {},
          "execution_count": 7
        }
      ]
    },
    {
      "cell_type": "code",
      "source": [
        "df.info() #displaying complete information of the features "
      ],
      "metadata": {
        "colab": {
          "base_uri": "https://localhost:8080/"
        },
        "id": "8DRW4f7zmIiZ",
        "outputId": "caa3fbd3-4e5a-4709-c618-efbf80eb1cf2"
      },
      "execution_count": 8,
      "outputs": [
        {
          "output_type": "stream",
          "name": "stdout",
          "text": [
            "<class 'pandas.core.frame.DataFrame'>\n",
            "RangeIndex: 162313 entries, 0 to 162312\n",
            "Data columns (total 5 columns):\n",
            " #   Column        Non-Null Count   Dtype  \n",
            "---  ------        --------------   -----  \n",
            " 0   category      162313 non-null  object \n",
            " 1   sub_category  162313 non-null  object \n",
            " 2   href          162313 non-null  object \n",
            " 3   items         162280 non-null  object \n",
            " 4   price         162282 non-null  float64\n",
            "dtypes: float64(1), object(4)\n",
            "memory usage: 6.2+ MB\n"
          ]
        }
      ]
    },
    {
      "cell_type": "code",
      "source": [
        "df.describe() #displaying the statistical information about the numerical feature i.e price"
      ],
      "metadata": {
        "colab": {
          "base_uri": "https://localhost:8080/",
          "height": 300
        },
        "id": "cAtR3IDhmLKU",
        "outputId": "4a0533b3-9b2c-4283-fe99-6d8151b81d58"
      },
      "execution_count": 9,
      "outputs": [
        {
          "output_type": "execute_result",
          "data": {
            "text/plain": [
              "              price\n",
              "count  1.622820e+05\n",
              "mean   1.991633e+03\n",
              "std    1.593479e+04\n",
              "min    5.000000e+00\n",
              "25%    2.840000e+02\n",
              "50%    4.990000e+02\n",
              "75%    9.990000e+02\n",
              "max    3.900000e+06"
            ],
            "text/html": [
              "\n",
              "  <div id=\"df-c356fdcb-186a-4a7c-8d90-6657c675057f\">\n",
              "    <div class=\"colab-df-container\">\n",
              "      <div>\n",
              "<style scoped>\n",
              "    .dataframe tbody tr th:only-of-type {\n",
              "        vertical-align: middle;\n",
              "    }\n",
              "\n",
              "    .dataframe tbody tr th {\n",
              "        vertical-align: top;\n",
              "    }\n",
              "\n",
              "    .dataframe thead th {\n",
              "        text-align: right;\n",
              "    }\n",
              "</style>\n",
              "<table border=\"1\" class=\"dataframe\">\n",
              "  <thead>\n",
              "    <tr style=\"text-align: right;\">\n",
              "      <th></th>\n",
              "      <th>price</th>\n",
              "    </tr>\n",
              "  </thead>\n",
              "  <tbody>\n",
              "    <tr>\n",
              "      <th>count</th>\n",
              "      <td>1.622820e+05</td>\n",
              "    </tr>\n",
              "    <tr>\n",
              "      <th>mean</th>\n",
              "      <td>1.991633e+03</td>\n",
              "    </tr>\n",
              "    <tr>\n",
              "      <th>std</th>\n",
              "      <td>1.593479e+04</td>\n",
              "    </tr>\n",
              "    <tr>\n",
              "      <th>min</th>\n",
              "      <td>5.000000e+00</td>\n",
              "    </tr>\n",
              "    <tr>\n",
              "      <th>25%</th>\n",
              "      <td>2.840000e+02</td>\n",
              "    </tr>\n",
              "    <tr>\n",
              "      <th>50%</th>\n",
              "      <td>4.990000e+02</td>\n",
              "    </tr>\n",
              "    <tr>\n",
              "      <th>75%</th>\n",
              "      <td>9.990000e+02</td>\n",
              "    </tr>\n",
              "    <tr>\n",
              "      <th>max</th>\n",
              "      <td>3.900000e+06</td>\n",
              "    </tr>\n",
              "  </tbody>\n",
              "</table>\n",
              "</div>\n",
              "      <button class=\"colab-df-convert\" onclick=\"convertToInteractive('df-c356fdcb-186a-4a7c-8d90-6657c675057f')\"\n",
              "              title=\"Convert this dataframe to an interactive table.\"\n",
              "              style=\"display:none;\">\n",
              "        \n",
              "  <svg xmlns=\"http://www.w3.org/2000/svg\" height=\"24px\"viewBox=\"0 0 24 24\"\n",
              "       width=\"24px\">\n",
              "    <path d=\"M0 0h24v24H0V0z\" fill=\"none\"/>\n",
              "    <path d=\"M18.56 5.44l.94 2.06.94-2.06 2.06-.94-2.06-.94-.94-2.06-.94 2.06-2.06.94zm-11 1L8.5 8.5l.94-2.06 2.06-.94-2.06-.94L8.5 2.5l-.94 2.06-2.06.94zm10 10l.94 2.06.94-2.06 2.06-.94-2.06-.94-.94-2.06-.94 2.06-2.06.94z\"/><path d=\"M17.41 7.96l-1.37-1.37c-.4-.4-.92-.59-1.43-.59-.52 0-1.04.2-1.43.59L10.3 9.45l-7.72 7.72c-.78.78-.78 2.05 0 2.83L4 21.41c.39.39.9.59 1.41.59.51 0 1.02-.2 1.41-.59l7.78-7.78 2.81-2.81c.8-.78.8-2.07 0-2.86zM5.41 20L4 18.59l7.72-7.72 1.47 1.35L5.41 20z\"/>\n",
              "  </svg>\n",
              "      </button>\n",
              "      \n",
              "  <style>\n",
              "    .colab-df-container {\n",
              "      display:flex;\n",
              "      flex-wrap:wrap;\n",
              "      gap: 12px;\n",
              "    }\n",
              "\n",
              "    .colab-df-convert {\n",
              "      background-color: #E8F0FE;\n",
              "      border: none;\n",
              "      border-radius: 50%;\n",
              "      cursor: pointer;\n",
              "      display: none;\n",
              "      fill: #1967D2;\n",
              "      height: 32px;\n",
              "      padding: 0 0 0 0;\n",
              "      width: 32px;\n",
              "    }\n",
              "\n",
              "    .colab-df-convert:hover {\n",
              "      background-color: #E2EBFA;\n",
              "      box-shadow: 0px 1px 2px rgba(60, 64, 67, 0.3), 0px 1px 3px 1px rgba(60, 64, 67, 0.15);\n",
              "      fill: #174EA6;\n",
              "    }\n",
              "\n",
              "    [theme=dark] .colab-df-convert {\n",
              "      background-color: #3B4455;\n",
              "      fill: #D2E3FC;\n",
              "    }\n",
              "\n",
              "    [theme=dark] .colab-df-convert:hover {\n",
              "      background-color: #434B5C;\n",
              "      box-shadow: 0px 1px 3px 1px rgba(0, 0, 0, 0.15);\n",
              "      filter: drop-shadow(0px 1px 2px rgba(0, 0, 0, 0.3));\n",
              "      fill: #FFFFFF;\n",
              "    }\n",
              "  </style>\n",
              "\n",
              "      <script>\n",
              "        const buttonEl =\n",
              "          document.querySelector('#df-c356fdcb-186a-4a7c-8d90-6657c675057f button.colab-df-convert');\n",
              "        buttonEl.style.display =\n",
              "          google.colab.kernel.accessAllowed ? 'block' : 'none';\n",
              "\n",
              "        async function convertToInteractive(key) {\n",
              "          const element = document.querySelector('#df-c356fdcb-186a-4a7c-8d90-6657c675057f');\n",
              "          const dataTable =\n",
              "            await google.colab.kernel.invokeFunction('convertToInteractive',\n",
              "                                                     [key], {});\n",
              "          if (!dataTable) return;\n",
              "\n",
              "          const docLinkHtml = 'Like what you see? Visit the ' +\n",
              "            '<a target=\"_blank\" href=https://colab.research.google.com/notebooks/data_table.ipynb>data table notebook</a>'\n",
              "            + ' to learn more about interactive tables.';\n",
              "          element.innerHTML = '';\n",
              "          dataTable['output_type'] = 'display_data';\n",
              "          await google.colab.output.renderOutput(dataTable, element);\n",
              "          const docLink = document.createElement('div');\n",
              "          docLink.innerHTML = docLinkHtml;\n",
              "          element.appendChild(docLink);\n",
              "        }\n",
              "      </script>\n",
              "    </div>\n",
              "  </div>\n",
              "  "
            ]
          },
          "metadata": {},
          "execution_count": 9
        }
      ]
    },
    {
      "cell_type": "code",
      "source": [
        "df.duplicated() #checking whether there are any duplicates in the datset and we have no duplicates"
      ],
      "metadata": {
        "colab": {
          "base_uri": "https://localhost:8080/"
        },
        "id": "8Jtoms9zmX6c",
        "outputId": "af670366-50af-4f18-8430-49108fa206ef"
      },
      "execution_count": 12,
      "outputs": [
        {
          "output_type": "execute_result",
          "data": {
            "text/plain": [
              "0         False\n",
              "1         False\n",
              "2         False\n",
              "3         False\n",
              "4         False\n",
              "          ...  \n",
              "162308    False\n",
              "162309    False\n",
              "162310    False\n",
              "162311    False\n",
              "162312    False\n",
              "Length: 162313, dtype: bool"
            ]
          },
          "metadata": {},
          "execution_count": 12
        }
      ]
    },
    {
      "cell_type": "code",
      "source": [
        "df.isnull().sum() #checking for the null values and we came to know the items and price jave 33 and 31 values respectively"
      ],
      "metadata": {
        "colab": {
          "base_uri": "https://localhost:8080/"
        },
        "id": "I-xIbfhomQDf",
        "outputId": "4407c93c-0f49-4b20-b128-80a0dee9dec9"
      },
      "execution_count": 10,
      "outputs": [
        {
          "output_type": "execute_result",
          "data": {
            "text/plain": [
              "category         0\n",
              "sub_category     0\n",
              "href             0\n",
              "items           33\n",
              "price           31\n",
              "dtype: int64"
            ]
          },
          "metadata": {},
          "execution_count": 10
        }
      ]
    },
    {
      "cell_type": "code",
      "source": [
        "df['price'] = df['price'].fillna(df['price'].mean())\n",
        "#filling the missing values for numerical data using mean"
      ],
      "metadata": {
        "id": "K_85ulTxmSqY"
      },
      "execution_count": 13,
      "outputs": []
    },
    {
      "cell_type": "code",
      "source": [
        "df.isnull().sum()"
      ],
      "metadata": {
        "colab": {
          "base_uri": "https://localhost:8080/"
        },
        "id": "yvYZjOjrmown",
        "outputId": "6293ac0a-bb8c-49ac-87c3-eb0165d5ffc2"
      },
      "execution_count": 14,
      "outputs": [
        {
          "output_type": "execute_result",
          "data": {
            "text/plain": [
              "category         0\n",
              "sub_category     0\n",
              "href             0\n",
              "items           33\n",
              "price            0\n",
              "dtype: int64"
            ]
          },
          "metadata": {},
          "execution_count": 14
        }
      ]
    },
    {
      "cell_type": "code",
      "source": [
        "df['items'] = df['items'].fillna(df['items'].mode()[0])\n",
        "#filling the missing values of items(categorical feature) using mode"
      ],
      "metadata": {
        "id": "CdZH5tPemrJB"
      },
      "execution_count": 15,
      "outputs": []
    },
    {
      "cell_type": "code",
      "source": [
        "df.isnull().sum() #As we can see there are no null values "
      ],
      "metadata": {
        "colab": {
          "base_uri": "https://localhost:8080/"
        },
        "id": "Q4RNqLywnD-f",
        "outputId": "6ad79c28-4145-4d32-ec53-9381695c7997"
      },
      "execution_count": 16,
      "outputs": [
        {
          "output_type": "execute_result",
          "data": {
            "text/plain": [
              "category        0\n",
              "sub_category    0\n",
              "href            0\n",
              "items           0\n",
              "price           0\n",
              "dtype: int64"
            ]
          },
          "metadata": {},
          "execution_count": 16
        }
      ]
    },
    {
      "cell_type": "code",
      "source": [
        "df.to_csv('JIO_MART.csv') #downloaded the updated csv file"
      ],
      "metadata": {
        "id": "ldEzyz5XnF8y"
      },
      "execution_count": 17,
      "outputs": []
    },
    {
      "cell_type": "code",
      "source": [
        ""
      ],
      "metadata": {
        "id": "-DdOVjUQnf4u"
      },
      "execution_count": null,
      "outputs": []
    }
  ]
}